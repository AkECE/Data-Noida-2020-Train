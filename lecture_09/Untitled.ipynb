{
 "cells": [
  {
   "cell_type": "code",
   "execution_count": 2,
   "metadata": {},
   "outputs": [],
   "source": [
    "from bs4 import BeautifulSoup"
   ]
  },
  {
   "cell_type": "code",
   "execution_count": 31,
   "metadata": {},
   "outputs": [],
   "source": [
    "f = open(\"index.html\")\n",
    "text = f.read()\n",
    "f.close()"
   ]
  },
  {
   "cell_type": "code",
   "execution_count": 64,
   "metadata": {},
   "outputs": [],
   "source": [
    "print(text)"
   ]
  },
  {
   "cell_type": "code",
   "execution_count": 6,
   "metadata": {},
   "outputs": [],
   "source": [
    "soup = BeautifulSoup(text)"
   ]
  },
  {
   "cell_type": "code",
   "execution_count": 11,
   "metadata": {},
   "outputs": [
    {
     "data": {
      "text/plain": [
       "<p>Note that the form itself is not visible.</p>"
      ]
     },
     "execution_count": 11,
     "metadata": {},
     "output_type": "execute_result"
    }
   ],
   "source": [
    "soup.p"
   ]
  },
  {
   "cell_type": "code",
   "execution_count": 13,
   "metadata": {},
   "outputs": [
    {
     "data": {
      "text/plain": [
       "[<input name=\"firstname\" type=\"text\"/>, <input name=\"lastname\" type=\"text\"/>]"
      ]
     },
     "execution_count": 13,
     "metadata": {},
     "output_type": "execute_result"
    }
   ],
   "source": [
    "soup.find_all(\"input\")"
   ]
  },
  {
   "cell_type": "code",
   "execution_count": null,
   "metadata": {},
   "outputs": [],
   "source": []
  },
  {
   "cell_type": "code",
   "execution_count": null,
   "metadata": {},
   "outputs": [],
   "source": []
  },
  {
   "cell_type": "code",
   "execution_count": null,
   "metadata": {},
   "outputs": [],
   "source": []
  },
  {
   "cell_type": "code",
   "execution_count": 14,
   "metadata": {},
   "outputs": [],
   "source": [
    "import requests"
   ]
  },
  {
   "cell_type": "code",
   "execution_count": 32,
   "metadata": {},
   "outputs": [],
   "source": [
    "url = r\"https://www.goodreads.com/quotes\""
   ]
  },
  {
   "cell_type": "code",
   "execution_count": 33,
   "metadata": {},
   "outputs": [],
   "source": [
    "response = requests.get(url)"
   ]
  },
  {
   "cell_type": "code",
   "execution_count": 34,
   "metadata": {},
   "outputs": [],
   "source": [
    "text = response.text"
   ]
  },
  {
   "cell_type": "code",
   "execution_count": 35,
   "metadata": {},
   "outputs": [],
   "source": [
    "soup = BeautifulSoup(text)"
   ]
  },
  {
   "cell_type": "code",
   "execution_count": 39,
   "metadata": {},
   "outputs": [],
   "source": [
    "li = soup.find_all(\"div\", attrs={\"class\" : \"quoteText\"})"
   ]
  },
  {
   "cell_type": "code",
   "execution_count": 43,
   "metadata": {},
   "outputs": [],
   "source": [
    "item = li[0]"
   ]
  },
  {
   "cell_type": "code",
   "execution_count": 63,
   "metadata": {},
   "outputs": [
    {
     "data": {
      "text/plain": [
       "<div class=\"quoteText\">\n",
       "      “I'm selfish, impatient and a little insecure. I make mistakes, I am out of control and at times hard to handle. But if you can't handle me at my worst, then you sure as hell don't deserve me at my best.”\n",
       "  <br/>  ―\n",
       "  <span class=\"authorOrTitle\">\n",
       "    Marilyn Monroe\n",
       "  </span>\n",
       "</div>"
      ]
     },
     "execution_count": 63,
     "metadata": {},
     "output_type": "execute_result"
    }
   ],
   "source": [
    "item"
   ]
  },
  {
   "cell_type": "code",
   "execution_count": 53,
   "metadata": {},
   "outputs": [],
   "source": [
    "lines = item.text.strip().split(\"\\n\")"
   ]
  },
  {
   "cell_type": "code",
   "execution_count": 54,
   "metadata": {},
   "outputs": [
    {
     "data": {
      "text/plain": [
       "[\"“I'm selfish, impatient and a little insecure. I make mistakes, I am out of control and at times hard to handle. But if you can't handle me at my worst, then you sure as hell don't deserve me at my best.”\",\n",
       " '    ―',\n",
       " '  ',\n",
       " '    Marilyn Monroe']"
      ]
     },
     "execution_count": 54,
     "metadata": {},
     "output_type": "execute_result"
    }
   ],
   "source": [
    "lines"
   ]
  },
  {
   "cell_type": "code",
   "execution_count": 55,
   "metadata": {},
   "outputs": [],
   "source": [
    "quote, author = lines[0], lines[-1].strip()"
   ]
  },
  {
   "cell_type": "code",
   "execution_count": 58,
   "metadata": {},
   "outputs": [
    {
     "data": {
      "text/plain": [
       "(\"“I'm selfish, impatient and a little insecure. I make mistakes, I am out of control and at times hard to handle. But if you can't handle me at my worst, then you sure as hell don't deserve me at my best.”\",\n",
       " 'Marilyn Monroe')"
      ]
     },
     "execution_count": 58,
     "metadata": {},
     "output_type": "execute_result"
    }
   ],
   "source": [
    "quote, author"
   ]
  },
  {
   "cell_type": "code",
   "execution_count": 57,
   "metadata": {},
   "outputs": [
    {
     "data": {
      "text/plain": [
       "'Marilyn Monroe'"
      ]
     },
     "execution_count": 57,
     "metadata": {},
     "output_type": "execute_result"
    }
   ],
   "source": []
  },
  {
   "cell_type": "code",
   "execution_count": 105,
   "metadata": {},
   "outputs": [],
   "source": [
    "quotes = soup.find_all(\"div\", attrs={\"class\" : \"quote\"})"
   ]
  },
  {
   "cell_type": "code",
   "execution_count": 106,
   "metadata": {},
   "outputs": [],
   "source": [
    "quote_item = quotes[0]"
   ]
  },
  {
   "cell_type": "code",
   "execution_count": 81,
   "metadata": {},
   "outputs": [
    {
     "data": {
      "text/plain": [
       "<div class=\"quote\">\n",
       "<div class=\"quoteDetails\">\n",
       "<a class=\"leftAlignedImage\" href=\"https://images.gr-assets.com/quotes/1511992603p8/8630.jpg\">\n",
       "<img alt=\"I'm selfish, impatient and a little insecure. I make mistakes, I am out of control\" src=\"https://images.gr-assets.com/quotes/1511992603p2/8630.jpg\"/>\n",
       "</a>\n",
       "<div class=\"quoteText\">\n",
       "      “I'm selfish, impatient and a little insecure. I make mistakes, I am out of control and at times hard to handle. But if you can't handle me at my worst, then you sure as hell don't deserve me at my best.”\n",
       "  <br/>  ―\n",
       "  <span class=\"authorOrTitle\">\n",
       "    Marilyn Monroe\n",
       "  </span>\n",
       "</div>\n",
       "<div class=\"quoteFooter\">\n",
       "<div class=\"greyText smallText left\">\n",
       "     tags:\n",
       "       <a href=\"/quotes/tag/attributed-no-source\">attributed-no-source</a>,\n",
       "       <a href=\"/quotes/tag/best\">best</a>,\n",
       "       <a href=\"/quotes/tag/life\">life</a>,\n",
       "       <a href=\"/quotes/tag/love\">love</a>,\n",
       "       <a href=\"/quotes/tag/mistakes\">mistakes</a>,\n",
       "       <a href=\"/quotes/tag/out-of-control\">out-of-control</a>,\n",
       "       <a href=\"/quotes/tag/truth\">truth</a>,\n",
       "       <a href=\"/quotes/tag/worst\">worst</a>\n",
       "</div>\n",
       "<div class=\"right\">\n",
       "<a class=\"smallText\" href=\"/quotes/8630-i-m-selfish-impatient-and-a-little-insecure-i-make-mistakes\" title=\"View this quote\">149820 likes</a>\n",
       "</div>\n",
       "</div>\n",
       "</div>\n",
       "<div class=\"action\">\n",
       "<a class=\"gr-button gr-button--small\" href=\"/user/new\" rel=\"nofollow\">Like</a>\n",
       "</div>\n",
       "</div>"
      ]
     },
     "execution_count": 81,
     "metadata": {},
     "output_type": "execute_result"
    }
   ],
   "source": [
    "quote_item"
   ]
  },
  {
   "cell_type": "code",
   "execution_count": 114,
   "metadata": {},
   "outputs": [],
   "source": [
    "total = []\n",
    "\n",
    "for quote_item in quotes:\n",
    "\n",
    "    item = quote_item.find_next(\"div\", attrs={\"class\" : \"quoteText\"})\n",
    "    lines = item.text.strip().split(\"\\n\")\n",
    "    quote, author = lines[0], item.span.text.strip()\n",
    "\n",
    "    left = quote_item.find_next(\"div\", attrs={\"class\" : \"left\"})\n",
    "\n",
    "    li_tags_links = left.find_all(\"a\")\n",
    "    tags = [tag_link.text for tag_link in li_tags_links]\n",
    "    \n",
    "    dict_quote = {\n",
    "        \"quote\" : quote,\n",
    "        \"author\" : author,\n",
    "        \"tags\" : tags\n",
    "    }\n",
    "    \n",
    "    total.append(dict_quote)"
   ]
  },
  {
   "cell_type": "code",
   "execution_count": 115,
   "metadata": {},
   "outputs": [
    {
     "data": {
      "text/plain": [
       "[{'quote': \"“I'm selfish, impatient and a little insecure. I make mistakes, I am out of control and at times hard to handle. But if you can't handle me at my worst, then you sure as hell don't deserve me at my best.”\",\n",
       "  'author': 'Marilyn Monroe',\n",
       "  'tags': ['attributed-no-source',\n",
       "   'best',\n",
       "   'life',\n",
       "   'love',\n",
       "   'mistakes',\n",
       "   'out-of-control',\n",
       "   'truth',\n",
       "   'worst']},\n",
       " {'quote': '“Be yourself; everyone else is already taken.”',\n",
       "  'author': 'Oscar Wilde',\n",
       "  'tags': ['attributed-no-source',\n",
       "   'be-yourself',\n",
       "   'honesty',\n",
       "   'inspirational',\n",
       "   'misattributed-oscar-wilde']},\n",
       " {'quote': \"“Two things are infinite: the universe and human stupidity; and I'm not sure about the universe.”\",\n",
       "  'author': 'Albert Einstein',\n",
       "  'tags': ['attributed-no-source',\n",
       "   'human-nature',\n",
       "   'humor',\n",
       "   'infinity',\n",
       "   'philosophy',\n",
       "   'science',\n",
       "   'stupidity',\n",
       "   'universe']},\n",
       " {'quote': '“So many books, so little time.”',\n",
       "  'author': 'Frank Zappa',\n",
       "  'tags': ['books', 'humor']},\n",
       " {'quote': \"“Be who you are and say what you feel, because those who mind don't matter, and those who matter don't mind.”\",\n",
       "  'author': 'Bernard M. Baruch',\n",
       "  'tags': ['ataraxy',\n",
       "   'be-yourself',\n",
       "   'confidence',\n",
       "   'fitting-in',\n",
       "   'individuality',\n",
       "   'misattributed-dr-seuss',\n",
       "   'those-who-matter']},\n",
       " {'quote': '“A room without books is like a body without a soul.”',\n",
       "  'author': 'Marcus Tullius Cicero',\n",
       "  'tags': ['attributed-no-source', 'books', 'simile', 'soul']},\n",
       " {'quote': \"“You've gotta dance like there's nobody watching,Love like you'll never be hurt,Sing like there's nobody listening,And live like it's heaven on earth.”\",\n",
       "  'author': 'William W. Purkey',\n",
       "  'tags': ['dance',\n",
       "   'heaven',\n",
       "   'hurt',\n",
       "   'inspirational',\n",
       "   'life',\n",
       "   'love',\n",
       "   'sing']},\n",
       " {'quote': \"“You know you're in love when you can't fall asleep because reality is finally better than your dreams.”\",\n",
       "  'author': 'Dr. Seuss',\n",
       "  'tags': ['attributed-no-source', 'dreams', 'love', 'reality', 'sleep']},\n",
       " {'quote': '“You only live once, but if you do it right, once is enough.”',\n",
       "  'author': 'Mae West',\n",
       "  'tags': ['humor', 'life']},\n",
       " {'quote': '“Be the change that you wish to see in the world.”',\n",
       "  'author': 'Mahatma Gandhi',\n",
       "  'tags': ['action', 'change', 'inspirational', 'philosophy', 'wish']},\n",
       " {'quote': \"“In three words I can sum up everything I've learned about life: it goes on.”\",\n",
       "  'author': 'Robert Frost',\n",
       "  'tags': ['life']},\n",
       " {'quote': \"“If you want to know what a man's like, take a good look at how he treats his inferiors, not his equals.”\",\n",
       "  'author': 'J.K. Rowling,',\n",
       "  'tags': ['attributed-no-source',\n",
       "   'friends',\n",
       "   'friendship',\n",
       "   'misattributed-albert-camus']},\n",
       " {'quote': '“Don’t walk in front of me… I may not followDon’t walk behind me… I may not leadWalk beside me… just be my friend”',\n",
       "  'author': 'Albert Camus',\n",
       "  'tags': ['attributed-no-source',\n",
       "   'friends',\n",
       "   'friendship',\n",
       "   'misattributed-albert-camus']},\n",
       " {'quote': '“No one can make you feel inferior without your consent.”',\n",
       "  'author': 'Eleanor Roosevelt,',\n",
       "  'tags': ['confidence', 'inspirational', 'wisdom']},\n",
       " {'quote': '“Friendship ... is born at the moment when one man says to another \"What! You too? I thought that no one but myself . . .”',\n",
       "  'author': 'C.S. Lewis,',\n",
       "  'tags': ['friendship']},\n",
       " {'quote': \"“If you tell the truth, you don't have to remember anything.”\",\n",
       "  'author': 'Mark Twain',\n",
       "  'tags': ['lies', 'lying', 'memory', 'truth']},\n",
       " {'quote': \"“I've learned that people will forget what you said, people will forget what you did, but people will never forget how you made them feel.”\",\n",
       "  'author': 'Maya Angelou',\n",
       "  'tags': ['friend', 'friendship', 'knowledge', 'love']},\n",
       " {'quote': '“A friend is someone who knows all about you and still loves you.”',\n",
       "  'author': 'Elbert Hubbard',\n",
       "  'tags': ['friend', 'friendship', 'knowledge', 'love']},\n",
       " {'quote': '“Always forgive your enemies; nothing annoys them so much.”',\n",
       "  'author': 'Oscar Wilde',\n",
       "  'tags': ['attributed-no-source', 'enemies', 'forgiveness', 'strategy']},\n",
       " {'quote': '“To live is the rarest thing in the world. Most people exist, that is all.”',\n",
       "  'author': 'Oscar Wilde',\n",
       "  'tags': ['life']},\n",
       " {'quote': '“Live as if you were to die tomorrow. Learn as if you were to live forever.”',\n",
       "  'author': 'Mahatma Gandhi',\n",
       "  'tags': ['carpe-diem', 'education', 'inspirational', 'learning']},\n",
       " {'quote': '“Darkness cannot drive out darkness: only light can do that. Hate cannot drive out hate: only love can do that.”',\n",
       "  'author': 'Martin Luther King Jr.,',\n",
       "  'tags': ['darkness',\n",
       "   'drive-out',\n",
       "   'hate',\n",
       "   'inspirational',\n",
       "   'light',\n",
       "   'love',\n",
       "   'peace']},\n",
       " {'quote': \"“I am so clever that sometimes I don't understand a single word of what I am saying.”\",\n",
       "  'author': 'Oscar Wilde,',\n",
       "  'tags': ['intelligence', 'self-deprecation']},\n",
       " {'quote': '“Without music, life would be a mistake.”',\n",
       "  'author': 'Friedrich Nietzsche,',\n",
       "  'tags': ['inspirational', 'music', 'philosophy']},\n",
       " {'quote': '“We accept the love we think we deserve.”',\n",
       "  'author': 'Stephen Chbosky,',\n",
       "  'tags': ['inspirational', 'love']},\n",
       " {'quote': '“To be yourself in a world that is constantly trying to make you something else is the greatest accomplishment.”',\n",
       "  'author': 'Ralph Waldo Emerson',\n",
       "  'tags': ['accomplishment',\n",
       "   'attributed-no-source',\n",
       "   'be-yourself',\n",
       "   'conformity',\n",
       "   'individuality']},\n",
       " {'quote': \"“Here's to the crazy ones. The misfits. The rebels. The troublemakers. The round pegs in the square holes. The ones who see things differently. They're not fond of rules. And they have no respect for the status quo. You can quote them, disagree with them, glorify or vilify them. About the only thing you can't do is ignore them. Because they change things. They push the human race forward. And while some may see them as the crazy ones, we see genius. Because the people who are crazy enough to think they can change the world, are the ones who do.”\",\n",
       "  'author': 'Rob Siltanen',\n",
       "  'tags': ['advertising',\n",
       "   'apple',\n",
       "   'change',\n",
       "   'commercial',\n",
       "   'computers',\n",
       "   'different',\n",
       "   'madness',\n",
       "   'misattributed-apple',\n",
       "   'misattributed-steve-jobs',\n",
       "   'misfits',\n",
       "   'nonconformity',\n",
       "   'progressive',\n",
       "   'rebels',\n",
       "   'status-quo',\n",
       "   'think-different',\n",
       "   'troublemakers']},\n",
       " {'quote': '“Insanity is doing the same thing, over and over again, but expecting different results.”',\n",
       "  'author': 'Narcotics Anonymous',\n",
       "  'tags': ['humor',\n",
       "   'insanity',\n",
       "   'life',\n",
       "   'misattributed-ben-franklin',\n",
       "   'misattributed-mark-twain',\n",
       "   'misattributed-to-einstein']},\n",
       " {'quote': \"“I believe that everything happens for a reason. People change so that you can learn to let go, things go wrong so that you appreciate them when they're right, you believe lies so you eventually learn to trust no one but yourself, and sometimes good things fall apart so better things can fall together.”\",\n",
       "  'author': 'Marilyn Monroe',\n",
       "  'tags': ['attributed-no-source', 'misattributed-marilyn-monroe']},\n",
       " {'quote': \"“Twenty years from now you will be more disappointed by the things that you didn't do than by the ones you did do. So throw off the bowlines. Sail away from the safe harbor. Catch the trade winds in your sails. Explore. Dream. Discover.”\",\n",
       "  'author': 'H. Jackson Brown Jr.,',\n",
       "  'tags': ['actions',\n",
       "   'disappointed',\n",
       "   'disappointment',\n",
       "   'dream',\n",
       "   'dreams',\n",
       "   'explore',\n",
       "   'misattributed-mark-twain',\n",
       "   'sail']}]"
      ]
     },
     "execution_count": 115,
     "metadata": {},
     "output_type": "execute_result"
    }
   ],
   "source": [
    "total"
   ]
  },
  {
   "cell_type": "code",
   "execution_count": null,
   "metadata": {},
   "outputs": [],
   "source": []
  },
  {
   "cell_type": "code",
   "execution_count": 116,
   "metadata": {},
   "outputs": [],
   "source": [
    "url_raw = r\"https://www.goodreads.com/quotes/tag/{}?page={}\""
   ]
  },
  {
   "cell_type": "code",
   "execution_count": 120,
   "metadata": {},
   "outputs": [
    {
     "name": "stdout",
     "output_type": "stream",
     "text": [
      "https://www.goodreads.com/quotes/tag/love?page=0\n",
      "https://www.goodreads.com/quotes/tag/love?page=1\n",
      "https://www.goodreads.com/quotes/tag/love?page=2\n",
      "https://www.goodreads.com/quotes/tag/love?page=3\n",
      "https://www.goodreads.com/quotes/tag/love?page=4\n",
      "https://www.goodreads.com/quotes/tag/love?page=5\n",
      "https://www.goodreads.com/quotes/tag/love?page=6\n",
      "https://www.goodreads.com/quotes/tag/love?page=7\n",
      "https://www.goodreads.com/quotes/tag/love?page=8\n",
      "https://www.goodreads.com/quotes/tag/love?page=9\n",
      "https://www.goodreads.com/quotes/tag/life?page=0\n",
      "https://www.goodreads.com/quotes/tag/life?page=1\n",
      "https://www.goodreads.com/quotes/tag/life?page=2\n",
      "https://www.goodreads.com/quotes/tag/life?page=3\n",
      "https://www.goodreads.com/quotes/tag/life?page=4\n",
      "https://www.goodreads.com/quotes/tag/life?page=5\n",
      "https://www.goodreads.com/quotes/tag/life?page=6\n",
      "https://www.goodreads.com/quotes/tag/life?page=7\n",
      "https://www.goodreads.com/quotes/tag/life?page=8\n",
      "https://www.goodreads.com/quotes/tag/life?page=9\n",
      "https://www.goodreads.com/quotes/tag/inspirational?page=0\n",
      "https://www.goodreads.com/quotes/tag/inspirational?page=1\n",
      "https://www.goodreads.com/quotes/tag/inspirational?page=2\n",
      "https://www.goodreads.com/quotes/tag/inspirational?page=3\n",
      "https://www.goodreads.com/quotes/tag/inspirational?page=4\n",
      "https://www.goodreads.com/quotes/tag/inspirational?page=5\n",
      "https://www.goodreads.com/quotes/tag/inspirational?page=6\n",
      "https://www.goodreads.com/quotes/tag/inspirational?page=7\n",
      "https://www.goodreads.com/quotes/tag/inspirational?page=8\n",
      "https://www.goodreads.com/quotes/tag/inspirational?page=9\n"
     ]
    }
   ],
   "source": [
    "emotions = [\"love\", \"life\", \"inspirational\"]\n",
    "\n",
    "for e in emotions:\n",
    "    for i in range(10):\n",
    "        print(url_raw.format(e, i))"
   ]
  },
  {
   "cell_type": "code",
   "execution_count": null,
   "metadata": {},
   "outputs": [],
   "source": []
  }
 ],
 "metadata": {
  "kernelspec": {
   "display_name": "Python 3",
   "language": "python",
   "name": "python3"
  },
  "language_info": {
   "codemirror_mode": {
    "name": "ipython",
    "version": 3
   },
   "file_extension": ".py",
   "mimetype": "text/x-python",
   "name": "python",
   "nbconvert_exporter": "python",
   "pygments_lexer": "ipython3",
   "version": "3.7.2"
  }
 },
 "nbformat": 4,
 "nbformat_minor": 4
}

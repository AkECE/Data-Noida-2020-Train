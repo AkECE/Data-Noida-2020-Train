{
 "cells": [
  {
   "cell_type": "code",
   "execution_count": 25,
   "metadata": {},
   "outputs": [],
   "source": [
    "import requests\n",
    "import random"
   ]
  },
  {
   "cell_type": "code",
   "execution_count": 2,
   "metadata": {},
   "outputs": [],
   "source": [
    "url = r\"https://cb.lk/speech\""
   ]
  },
  {
   "cell_type": "code",
   "execution_count": 3,
   "metadata": {},
   "outputs": [],
   "source": [
    "response = requests.get(url)"
   ]
  },
  {
   "cell_type": "code",
   "execution_count": 44,
   "metadata": {},
   "outputs": [],
   "source": [
    "text = \"\"\"Uth ja apni raakh se\n",
    "Tu udd ja ab talaash mein\n",
    "Parwaaz dekh parwane ki\n",
    "Aasman bhi sar uthayega\n",
    "Aayega apna time aayega\n",
    "Mere jaisa shaana lala\n",
    "Tujhe na mil payega\n",
    " \n",
    "Yeh shabdon ka jwala\n",
    "Meri bediyan pighlayega\n",
    "Jitna toone boya hai tu\n",
    "Utna hi to khaayega\n",
    "Aisa mera khwaab hai\n",
    "Jo darr ko bhi satayega\n",
    "Zinda mera khwaab\n",
    "Ab kaise tu dafnayega\n",
    " \n",
    "Ab hausle se jeene de\n",
    "Ab khauf nahi hai seene mein\n",
    "Har raaste ko cheerenge\n",
    "Hum kaamyabi chheenenge\n",
    "Sab kuchh mila paseene se\n",
    "Matlab bana ab jeene mein\n",
    " \n",
    "Kyon\n",
    "Kyon ki apna time aayega\n",
    " \n",
    "Tu nanga hi to aaya hai\n",
    "Kya ghanta lekar jaayega\n",
    "Apna time aayega\n",
    "Apna time aayega\n",
    "Apna time aayega x (2)\n",
    " \n",
    "Tu nanga hi to aaya hai\n",
    "Kya ghanta lekar..\n",
    " \n",
    "Kissi ka hath nahi tha sar par\n",
    "Yahaan par aaya khud ki mehnat se main\n",
    "Jitni taakat kismat mein nahi\n",
    "Utni rehmat mein hai\n",
    "Phir bhi ladka sehmat nahin hai\n",
    "Kyon ki hairat nahi hai\n",
    "Zaroorat yahaan marzi ki\n",
    "Aur jurrat ki hai\n",
    " \n",
    "Taakat ki hai, aafat ki\n",
    "Himaakat ki, ibaadat ki\n",
    "Adalat yeh hai chahat ki\n",
    "Mohobbat ki, amaanat ki\n",
    "Jeetne ki ab aadat ki hai\n",
    "Shohrat ki ab laalach nai hai\n",
    "Tere bhai jaisa koyi hard’ch nai hai\n",
    " \n",
    "Iss harkat ne hi barkat di hai\n",
    "Kyon?\n",
    " \n",
    "Tu nanga hi to aaya hai\n",
    "Kya ghanta lekar jaayega\n",
    "Apna time aayega\n",
    "Apna time aayega\n",
    "Apna time aayega\n",
    " \n",
    "Tu nanga hi to aaya hai\n",
    "Kya ghanta lekar jaayega\n",
    "Kya tu ghanta lekar jaayega\n",
    "Apna time aayega\n",
    "Apna time aayega\"\"\""
   ]
  },
  {
   "cell_type": "code",
   "execution_count": 45,
   "metadata": {},
   "outputs": [
    {
     "data": {
      "text/plain": [
       "'Uth ja apni raakh se'"
      ]
     },
     "execution_count": 45,
     "metadata": {},
     "output_type": "execute_result"
    }
   ],
   "source": []
  },
  {
   "cell_type": "code",
   "execution_count": 56,
   "metadata": {},
   "outputs": [],
   "source": [
    "k = 5"
   ]
  },
  {
   "cell_type": "code",
   "execution_count": 57,
   "metadata": {},
   "outputs": [],
   "source": [
    "counts = {}\n",
    "\n",
    "for i in range(k, len(text)):\n",
    "    cut = text[i-k: i]\n",
    "    nxt = text[i]\n",
    "    \n",
    "    if cut not in counts:\n",
    "        counts[cut] = {}\n",
    "    \n",
    "    if nxt not in counts[cut]:\n",
    "        counts[cut][nxt] = 0\n",
    "        \n",
    "    \n",
    "    counts[cut][nxt] += 1\n",
    "    \n",
    "    "
   ]
  },
  {
   "cell_type": "code",
   "execution_count": null,
   "metadata": {},
   "outputs": [],
   "source": []
  },
  {
   "cell_type": "code",
   "execution_count": null,
   "metadata": {},
   "outputs": [],
   "source": []
  },
  {
   "cell_type": "code",
   "execution_count": 58,
   "metadata": {},
   "outputs": [],
   "source": [
    "greeting = text[:20]"
   ]
  },
  {
   "cell_type": "code",
   "execution_count": 59,
   "metadata": {},
   "outputs": [],
   "source": [
    "for i in range(500):\n",
    "    cut = greeting[-k:]\n",
    "    top3 = sorted(counts[cut].items(), key=lambda item: item[1], reverse=True)[:3]\n",
    "    chosen = random.choice(top3)[0]\n",
    "    greeting = greeting + chosen\n"
   ]
  },
  {
   "cell_type": "code",
   "execution_count": 60,
   "metadata": {},
   "outputs": [
    {
     "name": "stdout",
     "output_type": "stream",
     "text": [
      "Uth ja apni raakh se\n",
      "Tu udd ja apna time aayega apni raakh se\n",
      "Tu udd ja ab jeene de\n",
      "Ab kaise tu dafnayega x (2)\n",
      " \n",
      "Tu nanga hi to khaayega x (2)\n",
      " \n",
      "Tu nanga hi to aaya khud ki mehnat se main\n",
      "Jitna toone boya hai\n",
      "Jo darr ko bhi sar uthayega\n",
      " \n",
      "Tu nanga hi to aaya khud ki mehnat se main\n",
      "Jitna toone boya hai seene mein\n",
      "Har raaste ko cheerenge\n",
      "Sab kuchh mila paseene se\n",
      "Matlab bana ab talaash mein\n",
      "Parwaaz dekh parwane ki ab laalach nai hairat nahi\n",
      "Utni rehmat mein nahi\n",
      "Utni rehmat mein hai\n",
      "Kya ghanta lekar jaayega\n",
      "Mere jai\n"
     ]
    }
   ],
   "source": [
    "print(greeting)"
   ]
  },
  {
   "cell_type": "code",
   "execution_count": null,
   "metadata": {},
   "outputs": [],
   "source": []
  }
 ],
 "metadata": {
  "kernelspec": {
   "display_name": "Python 3",
   "language": "python",
   "name": "python3"
  },
  "language_info": {
   "codemirror_mode": {
    "name": "ipython",
    "version": 3
   },
   "file_extension": ".py",
   "mimetype": "text/x-python",
   "name": "python",
   "nbconvert_exporter": "python",
   "pygments_lexer": "ipython3",
   "version": "3.7.2"
  }
 },
 "nbformat": 4,
 "nbformat_minor": 4
}

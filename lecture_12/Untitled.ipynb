{
 "cells": [
  {
   "cell_type": "code",
   "execution_count": 1,
   "metadata": {},
   "outputs": [],
   "source": [
    "from flask import Flask, request"
   ]
  },
  {
   "cell_type": "code",
   "execution_count": 2,
   "metadata": {},
   "outputs": [],
   "source": [
    "app = Flask(\"hello\")\n",
    "\n",
    "token = \"1234567890\""
   ]
  },
  {
   "cell_type": "code",
   "execution_count": 3,
   "metadata": {},
   "outputs": [],
   "source": [
    "@app.route(\"/check/\", methods=[\"GET\"])\n",
    "def sayhi():\n",
    "    return \"working\"\n",
    "\n",
    "@app.route(\"/callback/\", methods=[\"GET\"])\n",
    "def get_callback():\n",
    "    if token == request.args.get(\"hub.verify_token\"):\n",
    "        return request.args.get(\"hub.challenge\")\n",
    "    else:\n",
    "        return \"not working\"\n",
    "    \n",
    "\n",
    "@app.route(\"/callback/\", methods=[\"POST\"])\n",
    "def post_callback():\n",
    "    output = request.get_json()\n",
    "    print(output)\n",
    "    return \"done\"\n",
    "\n"
   ]
  },
  {
   "cell_type": "code",
   "execution_count": null,
   "metadata": {},
   "outputs": [
    {
     "name": "stdout",
     "output_type": "stream",
     "text": [
      " * Serving Flask app \"hello\" (lazy loading)\n",
      " * Environment: production\n",
      "   WARNING: Do not use the development server in a production environment.\n",
      "   Use a production WSGI server instead.\n",
      " * Debug mode: off\n"
     ]
    },
    {
     "name": "stderr",
     "output_type": "stream",
     "text": [
      " * Running on http://127.0.0.1:5000/ (Press CTRL+C to quit)\n",
      "127.0.0.1 - - [10/Feb/2020 12:01:43] \"POST /callback/ HTTP/1.1\" 200 -\n"
     ]
    },
    {
     "name": "stdout",
     "output_type": "stream",
     "text": [
      "{'object': 'page', 'entry': [{'id': '1968590183163185', 'time': 1581316320227, 'messaging': [{'sender': {'id': '3605755539449598'}, 'recipient': {'id': '1968590183163185'}, 'timestamp': 1581316319829, 'message': {'mid': 'm_R_ER4n1whLKKXd6aActCNmGndrxC2jXkaEPU60-oXbJYkp52lZw84bN4-2GCszwXvRn0jqwtDZUCmzTqVDoMbA', 'text': 'hi'}}]}]}\n"
     ]
    },
    {
     "name": "stderr",
     "output_type": "stream",
     "text": [
      "127.0.0.1 - - [10/Feb/2020 12:02:13] \"POST /callback/ HTTP/1.1\" 200 -\n"
     ]
    },
    {
     "name": "stdout",
     "output_type": "stream",
     "text": [
      "{'object': 'page', 'entry': [{'id': '1968590183163185', 'time': 1581316349375, 'messaging': [{'sender': {'id': '3605755539449598'}, 'recipient': {'id': '1968590183163185'}, 'timestamp': 1581316349046, 'message': {'mid': 'm_dCr9pm-Op1kyGcXe-onOcmGndrxC2jXkaEPU60-oXbLb5sR8mRYtX0iL2NoYNTbKM6oXYhXGzvRZ9tiPO2XDgA', 'text': 'i am sad'}}]}]}\n"
     ]
    }
   ],
   "source": [
    "app.run()"
   ]
  },
  {
   "cell_type": "code",
   "execution_count": null,
   "metadata": {},
   "outputs": [],
   "source": []
  }
 ],
 "metadata": {
  "kernelspec": {
   "display_name": "Python 3",
   "language": "python",
   "name": "python3"
  },
  "language_info": {
   "codemirror_mode": {
    "name": "ipython",
    "version": 3
   },
   "file_extension": ".py",
   "mimetype": "text/x-python",
   "name": "python",
   "nbconvert_exporter": "python",
   "pygments_lexer": "ipython3",
   "version": "3.7.2"
  }
 },
 "nbformat": 4,
 "nbformat_minor": 4
}

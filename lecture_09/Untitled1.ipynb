{
 "cells": [
  {
   "cell_type": "code",
   "execution_count": 3,
   "metadata": {},
   "outputs": [],
   "source": [
    "from flask import Flask"
   ]
  },
  {
   "cell_type": "code",
   "execution_count": 4,
   "metadata": {},
   "outputs": [],
   "source": [
    "i = 0"
   ]
  },
  {
   "cell_type": "code",
   "execution_count": 5,
   "metadata": {},
   "outputs": [],
   "source": [
    "app = Flask(\"my-app\")"
   ]
  },
  {
   "cell_type": "code",
   "execution_count": 6,
   "metadata": {},
   "outputs": [],
   "source": [
    "@app.route(\"/home\")\n",
    "def sayhi():\n",
    "    global i\n",
    "    i += 1\n",
    "    return \"Hi I am anuj Garg. This site have been visited {} times\".format(str(i))"
   ]
  },
  {
   "cell_type": "code",
   "execution_count": null,
   "metadata": {},
   "outputs": [
    {
     "name": "stdout",
     "output_type": "stream",
     "text": [
      " * Serving Flask app \"my-app\" (lazy loading)\n",
      " * Environment: production\n",
      "   WARNING: Do not use the development server in a production environment.\n",
      "   Use a production WSGI server instead.\n",
      " * Debug mode: off\n"
     ]
    },
    {
     "name": "stderr",
     "output_type": "stream",
     "text": [
      " * Running on http://192.168.0.171:8000/ (Press CTRL+C to quit)\n",
      "192.168.0.171 - - [04/Feb/2020 14:08:22] \"GET /home HTTP/1.1\" 200 -\n",
      "192.168.0.171 - - [04/Feb/2020 14:08:23] \"GET /home HTTP/1.1\" 200 -\n",
      "192.168.0.171 - - [04/Feb/2020 14:08:23] \"GET /favicon.ico HTTP/1.1\" 404 -\n",
      "192.168.0.166 - - [04/Feb/2020 14:08:26] \"GET /home HTTP/1.1\" 200 -\n",
      "192.168.0.166 - - [04/Feb/2020 14:08:28] \"GET /favicon.ico HTTP/1.1\" 404 -\n",
      "192.168.0.166 - - [04/Feb/2020 14:08:31] \"GET /home HTTP/1.1\" 200 -\n",
      "192.168.0.166 - - [04/Feb/2020 14:08:45] \"GET /home HTTP/1.1\" 200 -\n",
      "192.168.0.117 - - [04/Feb/2020 14:09:07] \"GET /home HTTP/1.1\" 200 -\n",
      "192.168.0.117 - - [04/Feb/2020 14:09:07] \"GET /favicon.ico HTTP/1.1\" 404 -\n",
      "192.168.0.117 - - [04/Feb/2020 14:09:10] \"GET /home HTTP/1.1\" 200 -\n",
      "192.168.0.117 - - [04/Feb/2020 14:09:36] \"GET /home HTTP/1.1\" 200 -\n",
      "192.168.0.166 - - [04/Feb/2020 14:09:47] \"GET /home HTTP/1.1\" 200 -\n"
     ]
    }
   ],
   "source": [
    "app.run(host=\"0.0.0.0\", port=8000)"
   ]
  },
  {
   "cell_type": "code",
   "execution_count": null,
   "metadata": {},
   "outputs": [],
   "source": []
  }
 ],
 "metadata": {
  "kernelspec": {
   "display_name": "Python 3",
   "language": "python",
   "name": "python3"
  },
  "language_info": {
   "codemirror_mode": {
    "name": "ipython",
    "version": 3
   },
   "file_extension": ".py",
   "mimetype": "text/x-python",
   "name": "python",
   "nbconvert_exporter": "python",
   "pygments_lexer": "ipython3",
   "version": "3.7.2"
  }
 },
 "nbformat": 4,
 "nbformat_minor": 4
}
